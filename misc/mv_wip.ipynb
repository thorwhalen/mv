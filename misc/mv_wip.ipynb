{
 "cells": [
  {
   "cell_type": "code",
   "execution_count": null,
   "metadata": {},
   "outputs": [],
   "source": []
  },
  {
   "cell_type": "code",
   "execution_count": 30,
   "metadata": {},
   "outputs": [],
   "source": [
    "from mv.experiments.live_qr_codes import create_qr_code, grid_image\n",
    "\n",
    "box_size = 10\n",
    "qr_codes = [\n",
    "    create_qr_code('black on white', fill_color='black', back_color='white', box_size=box_size),\n",
    "    create_qr_code('white on black', fill_color='white', back_color='black', box_size=box_size),\n",
    "    create_qr_code('blue on grey', fill_color='blue', back_color='grey', box_size=box_size),\n",
    "    create_qr_code('aqua on green', fill_color='aqua', back_color='green', box_size=box_size),\n",
    "    create_qr_code('red on yellow', fill_color='red', back_color='yellow', box_size=box_size),\n",
    "    create_qr_code('purple on pink', fill_color='purple', back_color='pink', box_size=box_size),\n",
    "    create_qr_code('orange on brown', fill_color='orange', back_color='brown', box_size=box_size),\n",
    "    create_qr_code('yellow on red', fill_color='yellow', back_color='red', box_size=box_size),\n",
    "]\n",
    "\n",
    "im = grid_image(qr_codes, n_rows=4, n_cols=2, h_padding=30, v_padding=30)\n",
    "im.save('qr_codes.png')"
   ]
  },
  {
   "cell_type": "code",
   "execution_count": null,
   "metadata": {},
   "outputs": [],
   "source": [
    "import theramin"
   ]
  },
  {
   "cell_type": "code",
   "execution_count": null,
   "metadata": {},
   "outputs": [],
   "source": []
  },
  {
   "cell_type": "markdown",
   "metadata": {},
   "source": [
    "# `mv` Tidbits"
   ]
  },
  {
   "cell_type": "code",
   "execution_count": 39,
   "metadata": {},
   "outputs": [
    {
     "name": "stdout",
     "output_type": "stream",
     "text": [
      "[02/15 21:12:09.205739][info][19219707][Context.cpp:69] Context created with config: default config!\n",
      "[02/15 21:12:09.205755][info][19219707][Context.cpp:74] Context work_dir=/Users/thorwhalen/Dropbox/py/proj/t/mv/misc\n",
      "[02/15 21:12:09.205756][info][19219707][Context.cpp:77] \t- SDK version: 1.9.4\n",
      "[02/15 21:12:09.205757][info][19219707][Context.cpp:78] \t- SDK stage version: main\n",
      "[02/15 21:12:09.205760][info][19219707][Context.cpp:82] get config EnumerateNetDevice:false\n",
      "[02/15 21:12:09.205761][info][19219707][MacPal.cpp:36] createObPal: create MacPal!\n",
      "[02/15 21:12:09.206219][info][19219707][MacPal.cpp:104] Create PollingDeviceWatcher!\n",
      "[02/15 21:12:09.206223][info][19219707][DeviceManager.cpp:15] Current found device(s): (0)\n",
      "[02/15 21:12:09.206226][info][19219707][Pipeline.cpp:15] Try to create pipeline with default device.\n",
      "[02/15 21:12:09.206227][warning][19219707][ObException.cpp:5] No device found, fail to create pipeline!\n",
      "[02/15 21:12:09.206498][info][19219707][Context.cpp:90] Context destroyed\n",
      "[02/15 21:12:09.217541][info][19219707][Context.cpp:69] Context created with config: default config!\n",
      "[02/15 21:12:09.217556][info][19219707][Context.cpp:74] Context work_dir=/Users/thorwhalen/Dropbox/py/proj/t/mv/misc\n",
      "[02/15 21:12:09.217557][info][19219707][Context.cpp:77] \t- SDK version: 1.9.4\n",
      "[02/15 21:12:09.217558][info][19219707][Context.cpp:78] \t- SDK stage version: main\n",
      "[02/15 21:12:09.217560][info][19219707][Context.cpp:82] get config EnumerateNetDevice:false\n",
      "[02/15 21:12:09.217562][info][19219707][MacPal.cpp:36] createObPal: create MacPal!\n",
      "[02/15 21:12:09.217963][info][19219707][MacPal.cpp:104] Create PollingDeviceWatcher!\n",
      "[02/15 21:12:09.217968][info][19219707][DeviceManager.cpp:15] Current found device(s): (0)\n",
      "[02/15 21:12:09.217970][info][19219707][Pipeline.cpp:15] Try to create pipeline with default device.\n",
      "[02/15 21:12:09.217972][warning][19219707][ObException.cpp:5] No device found, fail to create pipeline!\n",
      "[02/15 21:12:09.218335][info][19219707][Context.cpp:90] Context destroyed\n",
      "[02/15 21:12:09.228664][info][19219707][Context.cpp:69] Context created with config: default config!\n",
      "[02/15 21:12:09.228678][info][19219707][Context.cpp:74] Context work_dir=/Users/thorwhalen/Dropbox/py/proj/t/mv/misc\n",
      "[02/15 21:12:09.228680][info][19219707][Context.cpp:77] \t- SDK version: 1.9.4\n",
      "[02/15 21:12:09.228681][info][19219707][Context.cpp:78] \t- SDK stage version: main\n",
      "[02/15 21:12:09.228683][info][19219707][Context.cpp:82] get config EnumerateNetDevice:false\n",
      "[02/15 21:12:09.228684][info][19219707][MacPal.cpp:36] createObPal: create MacPal!\n",
      "[02/15 21:12:09.229140][info][19219707][MacPal.cpp:104] Create PollingDeviceWatcher!\n",
      "[02/15 21:12:09.229145][info][19219707][DeviceManager.cpp:15] Current found device(s): (0)\n",
      "[02/15 21:12:09.229147][info][19219707][Pipeline.cpp:15] Try to create pipeline with default device.\n",
      "[02/15 21:12:09.229149][warning][19219707][ObException.cpp:5] No device found, fail to create pipeline!\n",
      "[02/15 21:12:09.229403][info][19219707][Context.cpp:90] Context destroyed\n"
     ]
    },
    {
     "name": "stderr",
     "output_type": "stream",
     "text": [
      "OpenCV: out device of bound (0-1): 2\n",
      "OpenCV: camera failed to properly initialize!\n",
      "[ WARN:0@9330.696] global cap.cpp:323 open VIDEOIO(OBSENSOR): raised unknown C++ exception!\n",
      "\n",
      "\n",
      "OpenCV: out device of bound (0-1): 3\n",
      "OpenCV: camera failed to properly initialize!\n",
      "[ WARN:0@9330.708] global cap.cpp:323 open VIDEOIO(OBSENSOR): raised unknown C++ exception!\n",
      "\n",
      "\n",
      "OpenCV: out device of bound (0-1): 4\n",
      "OpenCV: camera failed to properly initialize!\n",
      "[ WARN:0@9330.719] global cap.cpp:323 open VIDEOIO(OBSENSOR): raised unknown C++ exception!\n",
      "\n",
      "\n"
     ]
    }
   ],
   "source": [
    "from mv.util import scan_for_openable_video_indices\n",
    "\n",
    "openable_indices = list(scan_for_openable_video_indices())"
   ]
  },
  {
   "cell_type": "code",
   "execution_count": 40,
   "metadata": {},
   "outputs": [
    {
     "data": {
      "text/plain": [
       "[{'index': 0,\n",
       "  'frame_width': 1920.0,\n",
       "  'frame_height': 1080.0,\n",
       "  'fps': 30.0,\n",
       "  'zoom': 0.0,\n",
       "  'backend': 1200.0},\n",
       " {'index': 1,\n",
       "  'frame_width': 1920.0,\n",
       "  'frame_height': 1080.0,\n",
       "  'fps': 30.0,\n",
       "  'zoom': 0.0,\n",
       "  'backend': 1200.0}]"
      ]
     },
     "execution_count": 40,
     "metadata": {},
     "output_type": "execute_result"
    }
   ],
   "source": [
    "openable_indices"
   ]
  },
  {
   "cell_type": "code",
   "execution_count": null,
   "metadata": {},
   "outputs": [],
   "source": []
  },
  {
   "cell_type": "code",
   "execution_count": null,
   "metadata": {},
   "outputs": [],
   "source": []
  },
  {
   "cell_type": "code",
   "execution_count": null,
   "metadata": {},
   "outputs": [],
   "source": []
  },
  {
   "cell_type": "markdown",
   "metadata": {},
   "source": [
    "# Scrap"
   ]
  },
  {
   "cell_type": "code",
   "execution_count": null,
   "metadata": {},
   "outputs": [],
   "source": []
  }
 ],
 "metadata": {
  "kernelspec": {
   "display_name": "p10",
   "language": "python",
   "name": "python3"
  },
  "language_info": {
   "codemirror_mode": {
    "name": "ipython",
    "version": 3
   },
   "file_extension": ".py",
   "mimetype": "text/x-python",
   "name": "python",
   "nbconvert_exporter": "python",
   "pygments_lexer": "ipython3",
   "version": "3.10.13"
  }
 },
 "nbformat": 4,
 "nbformat_minor": 2
}
